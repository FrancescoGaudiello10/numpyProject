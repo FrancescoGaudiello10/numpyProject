{
 "cells": [
  {
   "cell_type": "code",
   "execution_count": 1,
   "id": "aba3ae3b",
   "metadata": {},
   "outputs": [
    {
     "name": "stdout",
     "output_type": "stream",
     "text": [
      "ciao Python\n"
     ]
    }
   ],
   "source": [
    "print(\"ciao Python\")"
   ]
  },
  {
   "cell_type": "markdown",
   "id": "c66764e8",
   "metadata": {},
   "source": [
    "# Prima intestazione"
   ]
  },
  {
   "cell_type": "markdown",
   "id": "13b60635",
   "metadata": {},
   "source": [
    "* Elemento 1\n",
    "    * Elemento 1.1\n",
    "    * Elemento 1.2\n",
    "* Elemento 2"
   ]
  },
  {
   "cell_type": "markdown",
   "id": "2eea24da",
   "metadata": {},
   "source": [
    "1. Elemento 1\n",
    "    1. Elemento 1.1\n",
    "2. Elemento 2"
   ]
  },
  {
   "cell_type": "markdown",
   "id": "9e41e887",
   "metadata": {},
   "source": [
    "[Vai al sito](https://www.facebook.com/)"
   ]
  },
  {
   "cell_type": "markdown",
   "id": "0ab06671",
   "metadata": {},
   "source": [
    "![logo Python](https://upload.wikimedia.org/wikipedia/commons/c/c3/Python-logo-notext.svg)"
   ]
  },
  {
   "cell_type": "code",
   "execution_count": 2,
   "id": "4cda2ac2",
   "metadata": {},
   "outputs": [],
   "source": [
    "%matplotlib inline"
   ]
  },
  {
   "cell_type": "code",
   "execution_count": 3,
   "id": "a83f066f",
   "metadata": {},
   "outputs": [
    {
     "data": {
      "text/plain": [
       "[<matplotlib.lines.Line2D at 0x27c610fc790>]"
      ]
     },
     "execution_count": 3,
     "metadata": {},
     "output_type": "execute_result"
    },
    {
     "data": {
      "image/png": "[encoded data removed]",
      "text/plain": [
       "<Figure size 432x288 with 1 Axes>"
      ]
     },
     "metadata": {
      "needs_background": "light"
     },
     "output_type": "display_data"
    }
   ],
   "source": [
    "import matplotlib.pyplot as plt\n",
    "data = [1,2,3,10,20,30,60]\n",
    "plt.plot(data)"
   ]
  },
  {
   "cell_type": "code",
   "execution_count": 4,
   "id": "b60b5dce",
   "metadata": {},
   "outputs": [
    {
     "name": "stdout",
     "output_type": "stream",
     "text": [
      "Wall time: 2.02 ms\n"
     ]
    },
    {
     "data": {
      "text/plain": [
       "6765"
      ]
     },
     "execution_count": 4,
     "metadata": {},
     "output_type": "execute_result"
    }
   ],
   "source": [
    "%%time \n",
    "\n",
    "def fibonacci(n):\n",
    "    if n == 0: return 0\n",
    "    elif n == 1: return 1\n",
    "    else:\n",
    "        return fibonacci(n-1)+fibonacci(n-2)\n",
    "    \n",
    "fibonacci(20)"
   ]
  },
  {
   "cell_type": "code",
   "execution_count": null,
   "id": "f4a8a210",
   "metadata": {},
   "outputs": [],
   "source": []
  }
 ],
 "metadata": {
  "kernelspec": {
   "display_name": "Python 3",
   "language": "python",
   "name": "python3"
  },
  "language_info": {
   "codemirror_mode": {
    "name": "ipython",
    "version": 3
   },
   "file_extension": ".py",
   "mimetype": "text/x-python",
   "name": "python",
   "nbconvert_exporter": "python",
   "pygments_lexer": "ipython3",
   "version": "3.9.0"
  }
 },
 "nbformat": 4,
 "nbformat_minor": 5
}
